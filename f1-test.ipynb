{
 "cells": [
  {
   "cell_type": "code",
   "execution_count": 1,
   "id": "initial_id",
   "metadata": {
    "ExecuteTime": {
     "end_time": "2024-03-11T20:44:29.504904800Z",
     "start_time": "2024-03-11T20:44:29.094208400Z"
    },
    "collapsed": true
   },
   "outputs": [],
   "source": [
    "import pandas as pd\n",
    "import numpy as np\n",
    "import requests\n",
    "import re\n",
    "import urllib.parse\n",
    "import matplotlib.pyplot as plt\n",
    "import seaborn as sns\n",
    "from bs4 import BeautifulSoup"
   ]
  },
  {
   "cell_type": "markdown",
   "id": "b542ddd0",
   "metadata": {},
   "source": [
    "F1 API Key- Gotten from ergast.com\n",
    "This is a free API and does not require a private API key"
   ]
  },
  {
   "cell_type": "code",
   "execution_count": 8,
   "id": "f2e7e9c51a643120",
   "metadata": {
    "ExecuteTime": {
     "end_time": "2024-03-11T20:55:01.854690700Z",
     "start_time": "2024-03-11T20:54:59.802158700Z"
    },
    "collapsed": false
   },
   "outputs": [],
   "source": [
    "f1_base = \"https://ergast.com/api/f1\"\n",
    "# This code, when added to the f1_base api, lets us choose which driver\n",
    "# Before adding results, we retrieve information on Hamilton directly. \n",
    "# Adding /results returns the results and stats on Hamilton's races\n",
    "hamilton = '/drivers/hamilton/results.json'\n",
    "\n",
    "# Limit lets us choose how much data we want our api to return\n",
    "params = {'limit': 500}\n",
    "\n",
    "# Combine the Base URL and our Racer's specifics\n",
    "ham_url = f1_base + hamilton\n",
    "ham_data = []\n",
    "r = requests.get(ham_url, params = params)\n",
    "if r.ok:\n",
    "    ham_stats = r.json()\n",
    "    # ham_stats['MRData']['RaceTable']['Races'] works through different tables/steps to get us to the right information\n",
    "    ham_stats2 = ham_stats['MRData']['RaceTable']['Races']\n",
    "    # The loop below gathers data from each race and adds it to lists which will be converted into our df\n",
    "    for i in range(0, len(ham_stats2)):\n",
    "        seasons = ham_stats2[i]\n",
    "        race_stats = seasons['Results'][0]  \n",
    "        ham_list = {'Season': seasons['season'],\n",
    "                    'Race': seasons['raceName'],\n",
    "                    'Team': race_stats['Constructor']['name'],\n",
    "                    'Position': race_stats['position'],\n",
    "                    'Starting Grid Position': race_stats['grid'],\n",
    "                    'Time': race_stats['Time']['time'] if ('Time' in race_stats and 'time' in race_stats['Time']) else 'NA',\n",
    "                    'Avg Speed': race_stats['FastestLap']['AverageSpeed']['speed'] if ('FastestLap' in race_stats and 'AverageSpeed' in race_stats['FastestLap'] and 'speed' in race_stats['FastestLap']['AverageSpeed']) else 'NA'}\n",
    "        ham_data.append(ham_list)\n",
    "    ham_df = pd.DataFrame(ham_data)\n",
    "    # Replacing 'Grand Prix' with \"GP\" for simplicity :)\n",
    "    ham_df['Race'] = ham_df['Race'].replace(' Grand Prix', ' GP', regex=True)\n",
    "    ham_df.to_csv('hamilton_stats.csv', index = False)\n",
    "    \n",
    "  "
   ]
  }
 ],
 "metadata": {
  "kernelspec": {
   "display_name": "Python 3",
   "language": "python",
   "name": "python3"
  },
  "language_info": {
   "codemirror_mode": {
    "name": "ipython",
    "version": 3
   },
   "file_extension": ".py",
   "mimetype": "text/x-python",
   "name": "python",
   "nbconvert_exporter": "python",
   "pygments_lexer": "ipython3",
   "version": "3.11.7"
  }
 },
 "nbformat": 4,
 "nbformat_minor": 5
}
