{
 "cells": [
  {
   "cell_type": "code",
   "execution_count": 1,
   "id": "initial_id",
   "metadata": {
    "collapsed": true,
    "ExecuteTime": {
     "end_time": "2024-03-11T20:44:29.504904800Z",
     "start_time": "2024-03-11T20:44:29.094208400Z"
    }
   },
   "outputs": [],
   "source": [
    "import pandas as pd\n",
    "import numpy as np\n",
    "import requests\n",
    "import re\n",
    "import urllib.parse\n",
    "import matplotlib.pyplot as plt\n",
    "import seaborn as sns\n",
    "from bs4 import BeautifulSoup"
   ]
  },
  {
   "cell_type": "code",
   "execution_count": 8,
   "outputs": [],
   "source": [
    "f1_base = \"https://ergast.com/api/f1\"\n",
    "hamilton = '/drivers/hamilton/results.json'\n",
    "\n",
    "params = {'limit': 500}\n",
    "\n",
    "ham_url = f1_base + hamilton\n",
    "ham_data = []\n",
    "r = requests.get(ham_url, params = params)\n",
    "if r.ok:\n",
    "    ham_stats = r.json()\n",
    "    ham_stats2 = ham_stats['MRData']['RaceTable']['Races']\n",
    "    for i in range(0, len(ham_stats2)):\n",
    "        seasons = ham_stats2[i]\n",
    "        race_stats = seasons['Results'][0]  \n",
    "        ham_list = {'Season': seasons['season'],\n",
    "                    'Race': seasons['raceName'],\n",
    "                    'Team': race_stats['Constructor']['name'],\n",
    "                    'Position': race_stats['position'],\n",
    "                    'Starting Grid Position': race_stats['grid'],\n",
    "                    'Time': race_stats['Time']['time'] if ('Time' in race_stats and 'time' in race_stats['Time']) else 'NA',\n",
    "                    'Avg Speed': race_stats['FastestLap']['AverageSpeed']['speed'] if ('FastestLap' in race_stats and 'AverageSpeed' in race_stats['FastestLap'] and 'speed' in race_stats['FastestLap']['AverageSpeed']) else 'NA'}\n",
    "        ham_data.append(ham_list)\n",
    "    ham_df = pd.DataFrame(ham_data)\n",
    "    ham_df['Race'] = ham_df['Race'].replace(' Grand Prix', ' GP', regex=True)\n",
    "    ham_df.to_csv('hamilton_stats.csv', index = False)\n",
    "    \n",
    "  "
   ],
   "metadata": {
    "collapsed": false,
    "ExecuteTime": {
     "end_time": "2024-03-11T20:55:01.854690700Z",
     "start_time": "2024-03-11T20:54:59.802158700Z"
    }
   },
   "id": "f2e7e9c51a643120"
  },
  {
   "cell_type": "code",
   "execution_count": 4,
   "outputs": [
    {
     "name": "stdout",
     "output_type": "stream",
     "text": [
      "https://ergast.com/api/f1/drivers/hamilton/results?limit=200&offset=200.json\n"
     ]
    }
   ],
   "source": [],
   "metadata": {
    "collapsed": false,
    "ExecuteTime": {
     "end_time": "2024-03-05T04:54:57.330205Z",
     "start_time": "2024-03-05T04:54:57.186713800Z"
    }
   },
   "id": "f4d94c4931a37b8a"
  }
 ],
 "metadata": {
  "kernelspec": {
   "display_name": "Python 3",
   "language": "python",
   "name": "python3"
  },
  "language_info": {
   "codemirror_mode": {
    "name": "ipython",
    "version": 2
   },
   "file_extension": ".py",
   "mimetype": "text/x-python",
   "name": "python",
   "nbconvert_exporter": "python",
   "pygments_lexer": "ipython2",
   "version": "2.7.6"
  }
 },
 "nbformat": 4,
 "nbformat_minor": 5
}
